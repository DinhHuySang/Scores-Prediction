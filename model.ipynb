{
 "cells": [
  {
   "cell_type": "code",
   "execution_count": 152,
   "metadata": {},
   "outputs": [],
   "source": [
    "import numpy as np\n",
    "import plotly.express as px\n",
    "import pandas as pd\n",
    "import matplotlib.pyplot as plt"
   ]
  },
  {
   "cell_type": "code",
   "execution_count": 153,
   "metadata": {},
   "outputs": [
    {
     "data": {
      "text/plain": [
       "array([[ 73,  80,  75, 152],\n",
       "       [ 93,  88,  93, 185],\n",
       "       [ 89,  91,  90, 180],\n",
       "       [ 96,  98, 100, 196],\n",
       "       [ 73,  66,  70, 142],\n",
       "       [ 53,  46,  55, 101],\n",
       "       [ 69,  74,  77, 149],\n",
       "       [ 47,  56,  60, 115],\n",
       "       [ 87,  79,  90, 175],\n",
       "       [ 79,  70,  88, 164],\n",
       "       [ 69,  70,  73, 141],\n",
       "       [ 70,  65,  74, 141],\n",
       "       [ 93,  95,  91, 184],\n",
       "       [ 79,  80,  73, 152],\n",
       "       [ 70,  73,  78, 148],\n",
       "       [ 93,  89,  96, 192],\n",
       "       [ 78,  75,  68, 147],\n",
       "       [ 81,  90,  93, 183],\n",
       "       [ 88,  92,  86, 177],\n",
       "       [ 78,  83,  77, 159],\n",
       "       [ 82,  86,  90, 177],\n",
       "       [ 86,  82,  89, 175],\n",
       "       [ 78,  83,  85, 175]])"
      ]
     },
     "execution_count": 153,
     "metadata": {},
     "output_type": "execute_result"
    }
   ],
   "source": [
    "df = pd.read_csv('data_train.csv').values\n",
    "df"
   ]
  },
  {
   "cell_type": "code",
   "execution_count": 154,
   "metadata": {},
   "outputs": [
    {
     "name": "stdout",
     "output_type": "stream",
     "text": [
      "(23, 3) (23,)\n"
     ]
    }
   ],
   "source": [
    "x1 = df[:,0]\n",
    "x2 = df[:,1]\n",
    "x3 = df[:,2]\n",
    "X_train = df[:,:3]\n",
    "y_train = df[:,3]\n",
    "print(X_train.shape, y_train.shape)"
   ]
  },
  {
   "cell_type": "code",
   "execution_count": 155,
   "metadata": {},
   "outputs": [
    {
     "data": {
      "image/png": "[encoded data removed]",
      "text/plain": [
       "<Figure size 432x288 with 1 Axes>"
      ]
     },
     "metadata": {
      "needs_background": "light"
     },
     "output_type": "display_data"
    }
   ],
   "source": [
    "%matplotlib inline\n",
    "plt.xlabel('features')\n",
    "plt.ylabel('price')\n",
    "plt.scatter(x1,y_train,c='b')\n",
    "plt.scatter(x2,y_train,c='g')\n",
    "plt.scatter(x3,y_train,c='y')\n",
    "plt.show()"
   ]
  },
  {
   "cell_type": "code",
   "execution_count": 156,
   "metadata": {},
   "outputs": [],
   "source": [
    "X_train = np.c_[np.ones((len(X_train),1)),X_train]"
   ]
  },
  {
   "cell_type": "code",
   "execution_count": 157,
   "metadata": {},
   "outputs": [
    {
     "name": "stdout",
     "output_type": "stream",
     "text": [
      "(23, 4) (23,)\n"
     ]
    }
   ],
   "source": [
    "print(X_train.shape, y_train.shape)\n"
   ]
  },
  {
   "cell_type": "code",
   "execution_count": 158,
   "metadata": {},
   "outputs": [],
   "source": [
    "def predict(x,theta):\n",
    "    return np.dot(x, theta)"
   ]
  },
  {
   "cell_type": "code",
   "execution_count": 159,
   "metadata": {},
   "outputs": [],
   "source": [
    "def error(x,y,theta):\n",
    "    y_pre = predict(x,theta)\n",
    "    return 1/len(x)*(y-y_pre)**2"
   ]
  },
  {
   "cell_type": "code",
   "execution_count": 160,
   "metadata": {},
   "outputs": [],
   "source": [
    "def compute_cost(x,y,theta,lambdaa):\n",
    "    errors = error(x,y,theta)\n",
    "    return 1/(2*m)*np.dot(errors.T, errors) + lambdaa/2 *theta.T@theta"
   ]
  },
  {
   "cell_type": "code",
   "execution_count": 161,
   "metadata": {},
   "outputs": [],
   "source": [
    "def gradient_descent(x,y,theta,learning_rate,num_iter,m,lambdaa):  \n",
    "    cost_list = []\n",
    "    theta_list = []\n",
    "    for i in range(num_iter):\n",
    "        y_pre = predict(x,theta)\n",
    "        errors = error(x,y,theta)\n",
    "        cost = compute_cost(x,y,theta,lambdaa)\n",
    "        cost_list.append(cost)\n",
    "        theta-= learning_rate*np.dot(np.dot(x, theta) - y, x) / m + lambdaa*theta\n",
    "        theta_list.append(theta)\n",
    "    return theta_list, cost_list"
   ]
  },
  {
   "cell_type": "code",
   "execution_count": 162,
   "metadata": {},
   "outputs": [],
   "source": [
    "learning_rate = 0.0001\n",
    "m = len(y_train)  \n",
    "theta = np.random.rand(4)  #initializing theta with some random values\n",
    "num_iter = 200\n",
    "lambdaa = .001\n",
    "#print(error(x_train, y_train,theta))\n"
   ]
  },
  {
   "cell_type": "code",
   "execution_count": 163,
   "metadata": {},
   "outputs": [
    {
     "name": "stdout",
     "output_type": "stream",
     "text": [
      "[9.85711502e+03 7.43563532e+03 5.92572951e+03 4.45504372e+03\n",
      " 3.56725082e+03 2.67156810e+03 2.15122829e+03 1.60389903e+03\n",
      " 1.30018769e+03 9.64341086e+02 7.88050505e+02 5.80911645e+02\n",
      " 4.79360569e+02 3.50785372e+02 2.92919863e+02 2.12471865e+02\n",
      " 1.80026128e+02 1.29188455e+02 1.11446421e+02 7.89232914e+01\n",
      " 6.96179022e+01 4.84964921e+01 4.39769034e+01 3.00105296e+01\n",
      " 2.81604896e+01 1.87284036e+01 1.83291232e+01 1.18050856e+01\n",
      " 1.21607405e+01 7.52891918e+00 8.24707469e+00 4.86782051e+00\n",
      " 5.73106858e+00 3.19768514e+00 4.08886602e+00 2.13973835e+00\n",
      " 2.99856058e+00 1.46304402e+00 2.26104813e+00 1.02600129e+00\n",
      " 1.75220274e+00 7.41183132e-01 1.39390672e+00 5.54161217e-01\n",
      " 1.13644716e+00 4.30720034e-01 9.47778003e-01 3.49110482e-01\n",
      " 8.06939052e-01 2.95336378e-01 6.99999275e-01 2.60270825e-01\n",
      " 6.17538678e-01 2.37880165e-01 5.53072102e-01 2.24121089e-01\n",
      " 5.02052867e-01 2.16249027e-01 4.61235719e-01 2.12379443e-01\n",
      " 4.28264209e-01 2.11205908e-01 4.01399565e-01 2.11816303e-01\n",
      " 3.79339730e-01 2.13571131e-01 3.61096599e-01 2.16021673e-01\n",
      " 3.45911318e-01 2.18854066e-01 3.33194864e-01 2.21850520e-01\n",
      " 3.22485669e-01 2.24862052e-01 3.13418959e-01 2.27789079e-01\n",
      " 3.05704219e-01 2.30567485e-01 2.99108455e-01 2.33158518e-01\n",
      " 2.93443584e-01 2.35541443e-01 2.88556862e-01 2.37708171e-01\n",
      " 2.84323538e-01 2.39659334e-01 2.80641179e-01 2.41401418e-01\n",
      " 2.77425247e-01 2.42944678e-01 2.74605637e-01 2.44301630e-01\n",
      " 2.72123942e-01 2.45485971e-01 2.69931292e-01 2.46511824e-01\n",
      " 2.67986622e-01 2.47393201e-01 2.66255295e-01 2.48143662e-01\n",
      " 2.64707986e-01 2.48776078e-01 2.63319779e-01 2.49302501e-01\n",
      " 2.62069441e-01 2.49734094e-01 2.60938817e-01 2.50081109e-01\n",
      " 2.59912347e-01 2.50352895e-01 2.58976656e-01 2.50557934e-01\n",
      " 2.58120221e-01 2.50703880e-01 2.57333096e-01 2.50797617e-01\n",
      " 2.56606677e-01 2.50845316e-01 2.55933507e-01 2.50852493e-01\n",
      " 2.55307115e-01 2.50824065e-01 2.54721874e-01 2.50764411e-01\n",
      " 2.54172888e-01 2.50677417e-01 2.53655889e-01 2.50566534e-01\n",
      " 2.53167154e-01 2.50434816e-01 2.52703433e-01 2.50284967e-01\n",
      " 2.52261882e-01 2.50119375e-01 2.51840015e-01 2.49940151e-01\n",
      " 2.51435656e-01 2.49749156e-01 2.51046898e-01 2.49548031e-01\n",
      " 2.50672068e-01 2.49338221e-01 2.50309701e-01 2.49121001e-01\n",
      " 2.49958509e-01 2.48897488e-01 2.49617361e-01 2.48668670e-01\n",
      " 2.49285264e-01 2.48435410e-01 2.48961344e-01 2.48198470e-01\n",
      " 2.48644834e-01 2.47958517e-01 2.48335058e-01 2.47716135e-01\n",
      " 2.48031418e-01 2.47471840e-01 2.47733393e-01 2.47226080e-01\n",
      " 2.47440517e-01 2.46979249e-01 2.47152385e-01 2.46731693e-01\n",
      " 2.46868634e-01 2.46483711e-01 2.46588948e-01 2.46235568e-01\n",
      " 2.46313045e-01 2.45987492e-01 2.46040676e-01 2.45739685e-01\n",
      " 2.45771620e-01 2.45492319e-01 2.45505682e-01 2.45245547e-01\n",
      " 2.45242688e-01 2.44999500e-01 2.44982484e-01 2.44754291e-01\n",
      " 2.44724933e-01 2.44510019e-01 2.44469913e-01 2.44266768e-01\n",
      " 2.44217314e-01 2.44024612e-01 2.43967038e-01 2.43783612e-01\n",
      " 2.43719000e-01 2.43543821e-01 2.43473119e-01 2.43305285e-01\n",
      " 2.43229325e-01 2.43068042e-01 2.42987555e-01 2.42832123e-01\n",
      " 2.42747751e-01 2.42597556e-01 2.42509861e-01 2.42364360e-01]\n"
     ]
    }
   ],
   "source": [
    "theta_list, cost_list = gradient_descent(X_train,y_train,theta,learning_rate,num_iter,m,lambdaa)\n",
    "print(np.array(cost_list))"
   ]
  },
  {
   "cell_type": "code",
   "execution_count": 164,
   "metadata": {},
   "outputs": [
    {
     "data": {
      "image/png": "[encoded data removed]",
      "text/plain": [
       "<Figure size 432x288 with 1 Axes>"
      ]
     },
     "metadata": {
      "needs_background": "light"
     },
     "output_type": "display_data"
    }
   ],
   "source": [
    "plt.title('Cost Function', size = 30)\n",
    "plt.xlabel('num of iterator', size = 20)\n",
    "plt.ylabel('cost', size = 20)\n",
    "plt.plot(cost_list)\n",
    "plt.show()"
   ]
  },
  {
   "cell_type": "markdown",
   "metadata": {},
   "source": [
    "Ta suy ra theta"
   ]
  },
  {
   "cell_type": "code",
   "execution_count": 165,
   "metadata": {},
   "outputs": [
    {
     "name": "stdout",
     "output_type": "stream",
     "text": [
      "(4,)\n"
     ]
    }
   ],
   "source": [
    "new_theta = theta_list[-1]\n",
    "print(new_theta.shape)"
   ]
  },
  {
   "cell_type": "markdown",
   "metadata": {},
   "source": [
    "# Test"
   ]
  },
  {
   "cell_type": "code",
   "execution_count": 166,
   "metadata": {},
   "outputs": [],
   "source": [
    "df_test = pd.read_csv('data_test.csv').values"
   ]
  },
  {
   "cell_type": "code",
   "execution_count": 167,
   "metadata": {},
   "outputs": [],
   "source": [
    "X_test = df_test[:,:3]\n",
    "y_test = df_test[:,3]\n",
    "X_test = np.c_[np.ones((len(X_test),1)),X_test]"
   ]
  },
  {
   "cell_type": "code",
   "execution_count": 168,
   "metadata": {},
   "outputs": [],
   "source": [
    "Y_predict_from_test = predict(X_test,new_theta)"
   ]
  },
  {
   "cell_type": "code",
   "execution_count": 169,
   "metadata": {},
   "outputs": [
    {
     "name": "stdout",
     "output_type": "stream",
     "text": [
      "ta du doan diem tu model [151.82105395 191.14468193]\n",
      "diem thuc te [149 192]\n"
     ]
    }
   ],
   "source": [
    "print(\"ta du doan diem tu model\",Y_predict_from_test) \n",
    "print(\"diem thuc te\", y_test)"
   ]
  }
 ],
 "metadata": {
  "kernelspec": {
   "display_name": "Python 3",
   "language": "python",
   "name": "python3"
  },
  "language_info": {
   "codemirror_mode": {
    "name": "ipython",
    "version": 3
   },
   "file_extension": ".py",
   "mimetype": "text/x-python",
   "name": "python",
   "nbconvert_exporter": "python",
   "pygments_lexer": "ipython3",
   "version": "3.6.9"
  }
 },
 "nbformat": 4,
 "nbformat_minor": 4
}
