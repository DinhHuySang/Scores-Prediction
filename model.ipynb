{
 "cells": [
  {
   "cell_type": "code",
   "execution_count": 1,
   "metadata": {},
   "outputs": [],
   "source": [
    "import numpy as np\n",
    "import plotly.express as px\n",
    "import pandas as pd\n",
    "import matplotlib.pyplot as plt"
   ]
  },
  {
   "cell_type": "code",
   "execution_count": 2,
   "metadata": {},
   "outputs": [
    {
     "data": {
      "text/plain": [
       "array([[ 73,  80,  75, 152],\n",
       "       [ 93,  88,  93, 185],\n",
       "       [ 89,  91,  90, 180],\n",
       "       [ 96,  98, 100, 196],\n",
       "       [ 73,  66,  70, 142],\n",
       "       [ 53,  46,  55, 101],\n",
       "       [ 69,  74,  77, 149],\n",
       "       [ 47,  56,  60, 115],\n",
       "       [ 87,  79,  90, 175],\n",
       "       [ 79,  70,  88, 164],\n",
       "       [ 69,  70,  73, 141],\n",
       "       [ 70,  65,  74, 141],\n",
       "       [ 93,  95,  91, 184],\n",
       "       [ 79,  80,  73, 152],\n",
       "       [ 70,  73,  78, 148],\n",
       "       [ 93,  89,  96, 192],\n",
       "       [ 78,  75,  68, 147],\n",
       "       [ 81,  90,  93, 183],\n",
       "       [ 88,  92,  86, 177],\n",
       "       [ 78,  83,  77, 159],\n",
       "       [ 82,  86,  90, 177],\n",
       "       [ 86,  82,  89, 175],\n",
       "       [ 78,  83,  85, 175]])"
      ]
     },
     "execution_count": 2,
     "metadata": {},
     "output_type": "execute_result"
    }
   ],
   "source": [
    "df = pd.read_csv('data_train.csv').values\n",
    "df"
   ]
  },
  {
   "cell_type": "code",
   "execution_count": 3,
   "metadata": {},
   "outputs": [
    {
     "name": "stdout",
     "output_type": "stream",
     "text": [
      "(23, 3) (23,)\n"
     ]
    }
   ],
   "source": [
    "x1 = df[:,0]\n",
    "x2 = df[:,1]\n",
    "x3 = df[:,2]\n",
    "X_train = df[:,:3]\n",
    "y_train = df[:,3]\n",
    "print(X_train.shape, y_train.shape)"
   ]
  },
  {
   "cell_type": "code",
   "execution_count": 4,
   "metadata": {},
   "outputs": [
    {
     "data": {
      "image/png": "[encoded data removed]",
      "text/plain": [
       "<Figure size 432x288 with 1 Axes>"
      ]
     },
     "metadata": {
      "needs_background": "light"
     },
     "output_type": "display_data"
    }
   ],
   "source": [
    "%matplotlib inline\n",
    "plt.xlabel('features')\n",
    "plt.ylabel('price')\n",
    "plt.scatter(x1,y_train,c='b')\n",
    "plt.scatter(x2,y_train,c='g')\n",
    "plt.scatter(x3,y_train,c='y')\n",
    "plt.show()"
   ]
  },
  {
   "cell_type": "code",
   "execution_count": 5,
   "metadata": {},
   "outputs": [],
   "source": [
    "X_train = np.c_[np.ones((len(X_train),1)),X_train]"
   ]
  },
  {
   "cell_type": "code",
   "execution_count": 6,
   "metadata": {},
   "outputs": [
    {
     "name": "stdout",
     "output_type": "stream",
     "text": [
      "(23, 4) (23,)\n"
     ]
    }
   ],
   "source": [
    "print(X_train.shape, y_train.shape)\n"
   ]
  },
  {
   "cell_type": "code",
   "execution_count": 7,
   "metadata": {},
   "outputs": [],
   "source": [
    "def predict(x,theta):\n",
    "    return np.dot(x, theta)"
   ]
  },
  {
   "cell_type": "code",
   "execution_count": 8,
   "metadata": {},
   "outputs": [],
   "source": [
    "def error(x,y,theta):\n",
    "    y_pre = predict(x,theta)\n",
    "    return 1/len(x)*(y-y_pre)**2"
   ]
  },
  {
   "cell_type": "code",
   "execution_count": 9,
   "metadata": {},
   "outputs": [],
   "source": [
    "def compute_cost(x,y,theta):\n",
    "    errors = error(x,y,theta)\n",
    "    return 1/(2*m)*np.dot(errors.T, errors)"
   ]
  },
  {
   "cell_type": "code",
   "execution_count": 10,
   "metadata": {},
   "outputs": [],
   "source": [
    "def gradient_descent(x,y,theta,learning_rate,num_iter,m):  \n",
    "    cost_list = []\n",
    "    theta_list = []\n",
    "    for i in range(num_iter):\n",
    "        y_pre = predict(x,theta)\n",
    "        errors = error(x,y,theta)\n",
    "        cost = compute_cost(x,y,theta)\n",
    "        cost_list.append(cost)\n",
    "        theta-= learning_rate*np.dot(np.dot(x, theta) - y, x) / m\n",
    "        theta_list.append(theta)\n",
    "    return theta_list, cost_list"
   ]
  },
  {
   "cell_type": "code",
   "execution_count": 11,
   "metadata": {},
   "outputs": [],
   "source": [
    "learning_rate = 0.0001\n",
    "m = len(y_train)  \n",
    "theta = np.random.rand(4)  #initializing theta with some random values\n",
    "num_iter = 200\n",
    "#print(error(x_train, y_train,theta))\n"
   ]
  },
  {
   "cell_type": "code",
   "execution_count": 12,
   "metadata": {},
   "outputs": [
    {
     "name": "stdout",
     "output_type": "stream",
     "text": [
      "[24.34735219 18.59278561 16.32236137 12.31256004 11.17531542  8.29336665\n",
      "  7.82186479  5.6861831   5.59924995  3.97063876  4.09920583  2.82521867\n",
      "  3.06785782  2.0493725   2.34557012  1.51661544  1.83066355  1.14617117\n",
      "  1.45742651  0.88573715  1.18270957  0.70094288  0.97769362  0.56885214\n",
      "  0.82279057  0.47392104  0.70445172  0.40545648  0.61314576  0.35599837\n",
      "  0.54206008  0.32027564  0.48625399  0.29452238  0.44209745  0.27602287\n",
      "  0.40689266  0.26280394  0.37861467  0.25342378  0.35573036  0.24682457\n",
      "  0.33707039  0.24222846  0.32173698  0.23906294  0.30903695  0.23690703\n",
      "  0.29843225  0.23545185  0.28950329  0.23447169  0.28192136  0.23380262\n",
      "  0.27542785  0.23332653  0.26981841  0.2329593   0.26493091  0.23264193\n",
      "  0.26063613  0.23233393  0.25683068  0.23200833  0.25343143  0.23164801\n",
      "  0.25037126  0.23124295  0.24759573  0.23078814  0.24506048  0.23028212\n",
      "  0.24272919  0.22972578  0.24057197  0.22912161  0.23856414  0.22847308\n",
      "  0.23668521  0.2277842   0.23491807  0.22705924  0.23324842  0.22630249\n",
      "  0.23166419  0.22551816  0.23015523  0.22471024  0.22871289  0.22388247\n",
      "  0.22732982  0.22303833  0.22599975  0.22218096  0.22471729  0.22131326\n",
      "  0.2234778   0.22043779  0.22227729  0.21955687  0.22111228  0.21867256\n",
      "  0.21997976  0.21778668  0.21887713  0.21690083  0.21780208  0.21601644\n",
      "  0.21675261  0.21513472  0.21572697  0.21425676  0.21472361  0.21338349\n",
      "  0.21374115  0.21251571  0.21277839  0.21165412  0.21183425  0.2107993\n",
      "  0.21090778  0.20995177  0.20999812  0.20911195  0.20910451  0.20828018\n",
      "  0.20822627  0.20745678  0.20736278  0.20664198  0.20651348  0.20583597\n",
      "  0.20567787  0.20503892  0.20485548  0.20425094  0.20404591  0.20347211\n",
      "  0.20324876  0.20270251  0.20246369  0.20194216  0.20169036  0.20119108\n",
      "  0.20092849  0.20044927  0.20017779  0.19971671  0.19943799  0.19899337\n",
      "  0.19870887  0.19827922  0.19799018  0.19757419  0.19728171  0.19687823\n",
      "  0.19658327  0.19619128  0.19589466  0.19551325  0.19521569  0.19484406\n",
      "  0.1945462   0.19418365  0.193886    0.19353191  0.19323496  0.19288877\n",
      "  0.1925929   0.19225412  0.19195969  0.19162788  0.19133518  0.19100994\n",
      "  0.19071923  0.19040022  0.19011171  0.18979862  0.18951248  0.18920503\n",
      "  0.18892143  0.18861937  0.18833843  0.18804153  0.18776336  0.18747141\n",
      "  0.1871961   0.18690893  0.18663655  0.18635397  0.18608457  0.18580645\n",
      "  0.18554008  0.18526627  0.18500296  0.18473333  0.18447311  0.18420754\n",
      "  0.18395042  0.18368881]\n"
     ]
    }
   ],
   "source": [
    "theta_list, cost_list = gradient_descent(X_train,y_train,theta,learning_rate,num_iter,m)\n",
    "print(np.array(cost_list))"
   ]
  },
  {
   "cell_type": "code",
   "execution_count": 13,
   "metadata": {},
   "outputs": [
    {
     "data": {
      "image/png": "[encoded data removed]",
      "text/plain": [
       "<Figure size 432x288 with 1 Axes>"
      ]
     },
     "metadata": {
      "needs_background": "light"
     },
     "output_type": "display_data"
    }
   ],
   "source": [
    "plt.title('Cost Function', size = 30)\n",
    "plt.xlabel('num of iterator', size = 20)\n",
    "plt.ylabel('cost', size = 20)\n",
    "plt.plot(cost_list)\n",
    "plt.show()"
   ]
  },
  {
   "cell_type": "markdown",
   "metadata": {},
   "source": [
    "Ta suy ra theta"
   ]
  },
  {
   "cell_type": "code",
   "execution_count": 14,
   "metadata": {},
   "outputs": [
    {
     "name": "stdout",
     "output_type": "stream",
     "text": [
      "(4,)\n"
     ]
    }
   ],
   "source": [
    "new_theta = theta_list[-1]\n",
    "print(new_theta.shape)"
   ]
  },
  {
   "cell_type": "markdown",
   "metadata": {},
   "source": [
    "# Test"
   ]
  },
  {
   "cell_type": "code",
   "execution_count": 15,
   "metadata": {},
   "outputs": [],
   "source": [
    "df_test = pd.read_csv('data_test.csv').values"
   ]
  },
  {
   "cell_type": "code",
   "execution_count": 16,
   "metadata": {},
   "outputs": [],
   "source": [
    "X_test = df_test[:,:3]\n",
    "y_test = df_test[:,3]\n",
    "X_test = np.c_[np.ones((len(X_test),1)),X_test]"
   ]
  },
  {
   "cell_type": "code",
   "execution_count": 17,
   "metadata": {},
   "outputs": [],
   "source": [
    "Y_predict_from_test = predict(X_test,new_theta)"
   ]
  },
  {
   "cell_type": "code",
   "execution_count": 18,
   "metadata": {},
   "outputs": [
    {
     "name": "stdout",
     "output_type": "stream",
     "text": [
      "ta du doan diem tu model [155.3249503  190.66350082]\n",
      "diem thuc te [149 192]\n"
     ]
    }
   ],
   "source": [
    "print(\"ta du doan diem tu model\",Y_predict_from_test) \n",
    "print(\"diem thuc te\", y_test)"
   ]
  }
 ],
 "metadata": {
  "kernelspec": {
   "display_name": "Python 3",
   "language": "python",
   "name": "python3"
  },
  "language_info": {
   "codemirror_mode": {
    "name": "ipython",
    "version": 3
   },
   "file_extension": ".py",
   "mimetype": "text/x-python",
   "name": "python",
   "nbconvert_exporter": "python",
   "pygments_lexer": "ipython3",
   "version": "3.6.9"
  }
 },
 "nbformat": 4,
 "nbformat_minor": 4
}
