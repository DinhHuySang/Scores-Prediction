{
 "cells": [
  {
   "cell_type": "code",
   "execution_count": 1,
   "metadata": {},
   "outputs": [
    {
     "data": {
      "text/plain": [
       "'1.0.1'"
      ]
     },
     "execution_count": 1,
     "metadata": {},
     "output_type": "execute_result"
    }
   ],
   "source": [
    "import numpy as np\n",
    "#import plotly.express as px\n",
    "import pandas as pd\n",
    "import matplotlib.pyplot as plt\n",
    "pd.__version__"
   ]
  },
  {
   "cell_type": "code",
   "execution_count": 2,
   "metadata": {},
   "outputs": [
    {
     "data": {
      "text/plain": [
       "array([[ 73,  80,  75, 152],\n",
       "       [ 93,  88,  93, 185],\n",
       "       [ 89,  91,  90, 180],\n",
       "       [ 96,  98, 100, 196],\n",
       "       [ 73,  66,  70, 142],\n",
       "       [ 53,  46,  55, 101],\n",
       "       [ 69,  74,  77, 149],\n",
       "       [ 47,  56,  60, 115],\n",
       "       [ 87,  79,  90, 175],\n",
       "       [ 79,  70,  88, 164],\n",
       "       [ 69,  70,  73, 141],\n",
       "       [ 70,  65,  74, 141],\n",
       "       [ 93,  95,  91, 184],\n",
       "       [ 79,  80,  73, 152],\n",
       "       [ 70,  73,  78, 148],\n",
       "       [ 93,  89,  96, 192],\n",
       "       [ 78,  75,  68, 147],\n",
       "       [ 81,  90,  93, 183],\n",
       "       [ 88,  92,  86, 177],\n",
       "       [ 78,  83,  77, 159],\n",
       "       [ 82,  86,  90, 177],\n",
       "       [ 86,  82,  89, 175],\n",
       "       [ 78,  83,  85, 175]])"
      ]
     },
     "execution_count": 2,
     "metadata": {},
     "output_type": "execute_result"
    }
   ],
   "source": [
    "df = pd.read_csv('data_train.csv').values\n",
    "df"
   ]
  },
  {
   "cell_type": "code",
   "execution_count": 3,
   "metadata": {},
   "outputs": [],
   "source": [
    "def normal(X):\n",
    "    return (X-np.mean(X))/(np.max(X)-np.mean(X))"
   ]
  },
  {
   "cell_type": "code",
   "execution_count": 4,
   "metadata": {},
   "outputs": [],
   "source": [
    "x1 = df[:,0]\n",
    "x2 = df[:,1]\n",
    "x3 = df[:,2]\n",
    "\n",
    "#x1 = normal(x1)\n",
    "#x2 = normal(x2)\n",
    "#x3 = normal(x3)\n",
    "\n",
    "y_train = df[:,3]\n"
   ]
  },
  {
   "cell_type": "code",
   "execution_count": 5,
   "metadata": {},
   "outputs": [
    {
     "data": {
      "text/plain": [
       "(23,)"
      ]
     },
     "execution_count": 5,
     "metadata": {},
     "output_type": "execute_result"
    }
   ],
   "source": [
    "x1.shape"
   ]
  },
  {
   "cell_type": "code",
   "execution_count": 6,
   "metadata": {},
   "outputs": [
    {
     "data": {
      "image/png": "[encoded data removed]",
      "text/plain": [
       "<Figure size 432x288 with 1 Axes>"
      ]
     },
     "metadata": {
      "needs_background": "light"
     },
     "output_type": "display_data"
    }
   ],
   "source": [
    "%matplotlib inline\n",
    "plt.xlabel('features')\n",
    "plt.ylabel('price')\n",
    "plt.scatter(x1,y_train,c='b')\n",
    "plt.scatter(x2,y_train,c='g')\n",
    "plt.scatter(x3,y_train,c='y')\n",
    "plt.show()"
   ]
  },
  {
   "cell_type": "code",
   "execution_count": 7,
   "metadata": {},
   "outputs": [
    {
     "data": {
      "text/plain": [
       "array([[  1.,  73.,  80.,  75.],\n",
       "       [  1.,  93.,  88.,  93.],\n",
       "       [  1.,  89.,  91.,  90.],\n",
       "       [  1.,  96.,  98., 100.],\n",
       "       [  1.,  73.,  66.,  70.],\n",
       "       [  1.,  53.,  46.,  55.],\n",
       "       [  1.,  69.,  74.,  77.],\n",
       "       [  1.,  47.,  56.,  60.],\n",
       "       [  1.,  87.,  79.,  90.],\n",
       "       [  1.,  79.,  70.,  88.],\n",
       "       [  1.,  69.,  70.,  73.],\n",
       "       [  1.,  70.,  65.,  74.],\n",
       "       [  1.,  93.,  95.,  91.],\n",
       "       [  1.,  79.,  80.,  73.],\n",
       "       [  1.,  70.,  73.,  78.],\n",
       "       [  1.,  93.,  89.,  96.],\n",
       "       [  1.,  78.,  75.,  68.],\n",
       "       [  1.,  81.,  90.,  93.],\n",
       "       [  1.,  88.,  92.,  86.],\n",
       "       [  1.,  78.,  83.,  77.],\n",
       "       [  1.,  82.,  86.,  90.],\n",
       "       [  1.,  86.,  82.,  89.],\n",
       "       [  1.,  78.,  83.,  85.]])"
      ]
     },
     "execution_count": 7,
     "metadata": {},
     "output_type": "execute_result"
    }
   ],
   "source": [
    "X_train = np.c_[np.ones((np.size(y_train),1)),x1,x2,x3]\n",
    "X_train"
   ]
  },
  {
   "cell_type": "code",
   "execution_count": 8,
   "metadata": {},
   "outputs": [
    {
     "name": "stdout",
     "output_type": "stream",
     "text": [
      "(23, 4) (23, 1)\n"
     ]
    }
   ],
   "source": [
    "y_train = np.reshape(y_train,(-1,1))\n",
    "print(X_train.shape, y_train.shape)\n"
   ]
  },
  {
   "cell_type": "code",
   "execution_count": 9,
   "metadata": {},
   "outputs": [],
   "source": [
    "def predict(x,theta):\n",
    "    return np.dot(x, theta)"
   ]
  },
  {
   "cell_type": "code",
   "execution_count": 10,
   "metadata": {},
   "outputs": [],
   "source": [
    "def error(x,y,theta):\n",
    "    y_pre = predict(x,theta)\n",
    "    return np.mean((y-y_pre)**2)"
   ]
  },
  {
   "cell_type": "code",
   "execution_count": 11,
   "metadata": {},
   "outputs": [],
   "source": [
    "def compute_cost(x,y,theta,lambdaa):\n",
    "    errors = error(x,y,theta)\n",
    "    return 1/2*np.mean(errors) + lambdaa/2 *np.sum(theta.T@theta)"
   ]
  },
  {
   "cell_type": "code",
   "execution_count": 12,
   "metadata": {},
   "outputs": [],
   "source": [
    "def create_mini_batches(X, y, batch_size): \n",
    "    mini_batches = [] \n",
    "    data = np.hstack((X, y)) \n",
    "    np.random.shuffle(data) \n",
    "    n_minibatches = data.shape[0] // batch_size \n",
    "    i = 0\n",
    "  \n",
    "    for i in range(n_minibatches + 1): \n",
    "        mini_batch = data[i * batch_size:(i + 1)*batch_size, :] \n",
    "        X_mini = mini_batch[:, :-1] \n",
    "        Y_mini = mini_batch[:, -1].reshape((-1, 1)) \n",
    "        mini_batches.append((X_mini, Y_mini)) \n",
    "    if data.shape[0] % batch_size != 0: \n",
    "        mini_batch = data[i * batch_size:data.shape[0]] \n",
    "        X_mini = mini_batch[:, :-1] \n",
    "        Y_mini = mini_batch[:, -1].reshape((-1, 1)) \n",
    "        mini_batches.append((X_mini, Y_mini)) \n",
    "    return mini_batches "
   ]
  },
  {
   "cell_type": "code",
   "execution_count": 13,
   "metadata": {},
   "outputs": [],
   "source": [
    "def gradient_descent(x,y,theta,learning_rate,lambdaa):  \n",
    "    cost_list = []\n",
    "    theta_list = []\n",
    "    m = np.size(y) \n",
    "    i=0\n",
    "    cost_list.append(1e100)\n",
    "    while 1:\n",
    "        i+=1\n",
    "        cost = compute_cost(x,y,theta,lambdaa)\n",
    "        cost_list.append(cost)\n",
    "        theta-= learning_rate*np.mean(np.dot(np.dot(x, theta) - y, x)) + lambdaa*theta\n",
    "        theta_list.append(theta)\n",
    "        print('iter',i,' ','loss',cost,' ', 'distance',cost_list[i-1] - cost_list[i])\n",
    "        if cost_list[i-1] - cost_list[i] <= 1e-15:\n",
    "            break\n",
    "    return theta_list, cost_list"
   ]
  },
  {
   "cell_type": "code",
   "execution_count": 14,
   "metadata": {},
   "outputs": [],
   "source": [
    "learning_rate = 0.0000001\n",
    "theta = np.random.rand(4)  #initializing theta with some random values\n",
    "lambdaa = 0\n",
    "epoches = 20\n",
    "batch_size = 80\n",
    "#print(error(x_train, y_train,theta))\n"
   ]
  },
  {
   "cell_type": "code",
   "execution_count": 15,
   "metadata": {},
   "outputs": [
    {
     "name": "stdout",
     "output_type": "stream",
     "text": [
      "iter 1   loss 873.7336491228314   distance 1e+100\n",
      "iter 2   loss 852.1924767199112   distance 21.54117240292021\n",
      "iter 3   loss 832.0776151426553   distance 20.11486157725585\n",
      "iter 4   loss 813.2946237295553   distance 18.782991413100035\n",
      "iter 5   loss 795.7553150413215   distance 17.539308688233746\n",
      "iter 6   loss 779.3773408147767   distance 16.37797422654478\n",
      "iter 7   loss 764.0838053320866   distance 15.293535482690118\n",
      "iter 8   loss 749.8029043900631   distance 14.28090094202355\n",
      "iter 9   loss 736.4675881744814   distance 13.335316215581656\n",
      "iter 10   loss 724.0152464565815   distance 12.452341717899913\n",
      "iter 11   loss 712.3874146337284   distance 11.627831822853068\n",
      "iter 12   loss 701.529499234073   distance 10.85791539965544\n",
      "iter 13   loss 691.3905215964394   distance 10.138977637633616\n",
      "iter 14   loss 681.9228785219965   distance 9.46764307444289\n",
      "iter 15   loss 673.0821187739588   distance 8.840759748037726\n",
      "iter 16   loss 664.8267343759652   distance 8.255384397993566\n",
      "iter 17   loss 657.1179657292705   distance 7.708768646694693\n",
      "iter 18   loss 649.9196196337567   distance 7.198346095513784\n",
      "iter 19   loss 643.1978993583642   distance 6.721720275392499\n",
      "iter 20   loss 636.9212459631095   distance 6.276653395254698\n",
      "iter 21   loss 631.060190127688   distance 5.861055835421553\n",
      "iter 22   loss 625.5872137909827   distance 5.472976336705301\n",
      "iter 23   loss 620.4766209518713   distance 5.110592839111405\n",
      "iter 24   loss 615.7044170247306   distance 4.772203927140708\n",
      "iter 25   loss 611.2481961832012   distance 4.45622084152933\n",
      "iter 26   loss 607.08703616329   distance 4.161160019911222\n",
      "iter 27   loss 603.2014000318982   distance 3.885636131391834\n",
      "iter 28   loss 599.5730444595742   distance 3.628355572323926\n",
      "iter 29   loss 596.184934066824   distance 3.3881103927502636\n",
      "iter 30   loss 593.0211614418299   distance 3.163772624994067\n",
      "iter 31   loss 590.0668724540571   distance 2.9542889877727703\n",
      "iter 32   loss 587.3081965130855   distance 2.7586759409716706\n",
      "iter 33   loss 584.7321814452318   distance 2.576015067853632\n",
      "iter 34   loss 582.326732682203   distance 2.4054487630288577\n",
      "iter 35   loss 580.0805564762622   distance 2.246176205940742\n",
      "iter 36   loss 577.9831068753065   distance 2.0974496009557697\n",
      "iter 37   loss 576.024536208894   distance 1.95857066641247\n",
      "iter 38   loss 574.1956488527527   distance 1.8288873561413084\n",
      "iter 39   loss 572.4878580546907   distance 1.7077907980619784\n",
      "iter 40   loss 570.8931456192028   distance 1.5947124354879634\n",
      "iter 41   loss 569.4040242614894   distance 1.4891213577133158\n",
      "iter 42   loss 568.01350245414   distance 1.390521807349387\n",
      "iter 43   loss 566.7150516014281   distance 1.2984508527119942\n",
      "iter 44   loss 565.5025753871049   distance 1.2124762143231465\n",
      "iter 45   loss 564.3703811517754   distance 1.1321942353295071\n",
      "iter 46   loss 563.3131531654691   distance 1.0572279863063159\n",
      "iter 47   loss 562.3259276699212   distance 0.987225495547932\n",
      "iter 48   loss 561.4040695733864   distance 0.9218580965347201\n",
      "iter 49   loss 560.5432506885631   distance 0.8608188848232885\n",
      "iter 50   loss 559.7394294114557   distance 0.8038212771074313\n",
      "iter 51   loss 558.9888317457652   distance 0.7505976656905204\n",
      "iter 52   loss 558.2879335837167   distance 0.7008981620484747\n",
      "iter 53   loss 557.6334441601306   distance 0.654489423586142\n",
      "iter 54   loss 557.0222906020527   distance 0.6111535580778309\n",
      "iter 55   loss 556.4516035014045   distance 0.5706871006482288\n",
      "iter 56   loss 555.9187034429143   distance 0.5329000584902133\n",
      "iter 57   loss 555.421088424078   distance 0.49761501883631354\n",
      "iter 58   loss 554.9564221080838   distance 0.46466631599423636\n",
      "iter 59   loss 554.5225228545514   distance 0.4338992535323314\n",
      "iter 60   loss 554.1173534765795   distance 0.40516937797190167\n",
      "iter 61   loss 553.7390116760125   distance 0.37834180056700006\n",
      "iter 62   loss 553.3857211120196   distance 0.35329056399291403\n",
      "iter 63   loss 553.0558230610525   distance 0.329898050967131\n",
      "iter 64   loss 552.7477686290241   distance 0.3080544320283707\n",
      "iter 65   loss 552.4601114791434   distance 0.2876571498807152\n",
      "iter 66   loss 552.1915010412655   distance 0.2686104378778964\n",
      "iter 67   loss 551.94067617087   distance 0.2508248703954905\n",
      "iter 68   loss 551.7064592279031   distance 0.23421694296689566\n",
      "iter 69   loss 551.4877505476742   distance 0.21870868022892864\n",
      "iter 70   loss 551.2835232778552   distance 0.20422726981894357\n",
      "iter 71   loss 551.092818557338   distance 0.19070472051726028\n",
      "iter 72   loss 550.9147410143157   distance 0.17807754302225476\n",
      "iter 73   loss 550.7484545624501   distance 0.16628645186563062\n",
      "iter 74   loss 550.5931784753881   distance 0.15527608706202045\n",
      "iter 75   loss 550.4481837211988   distance 0.14499475418926977\n",
      "iter 76   loss 550.3127895395176   distance 0.1353941816812494\n",
      "iter 77   loss 550.1863602453296   distance 0.12642929418791482\n",
      "iter 78   loss 550.0683022443847   distance 0.11805800094498409\n",
      "iter 79   loss 549.9580612462311   distance 0.11024099815358568\n",
      "iter 80   loss 549.8551196617843   distance 0.1029415844467394\n",
      "iter 81   loss 549.7589941732102   distance 0.09612548857410275\n",
      "iter 82   loss 549.6692334647147   distance 0.08976070849553253\n",
      "iter 83   loss 549.5854161035842   distance 0.08381736113051375\n",
      "iter 84   loss 549.5071485615316   distance 0.07826754205257203\n",
      "iter 85   loss 549.4340633670522   distance 0.07308519447940398\n",
      "iter 86   loss 549.3658173801207   distance 0.06824598693151529\n",
      "iter 87   loss 549.3020901811245   distance 0.06372719899616186\n",
      "iter 88   loss 549.2425825664722   distance 0.059507614652375196\n",
      "iter 89   loss 549.1870151438111   distance 0.0555674226610563\n",
      "iter 90   loss 549.1351270202623   distance 0.051888123548792464\n",
      "iter 91   loss 549.0866745775093   distance 0.04845244275304594\n",
      "iter 92   loss 549.0414303279936   distance 0.04524424951569017\n",
      "iter 93   loss 548.9991818468452   distance 0.04224848114836277\n",
      "iter 94   loss 548.9597307745335   distance 0.03945107231174916\n",
      "iter 95   loss 548.9228918855547   distance 0.03683888897876386\n",
      "iter 96   loss 548.8884922187858   distance 0.03439966676887707\n",
      "iter 97   loss 548.8563702654208   distance 0.032121953365049194\n",
      "iter 98   loss 548.8263752106743   distance 0.029995054746450478\n",
      "iter 99   loss 548.7983662256968   distance 0.028008984977532236\n",
      "iter 100   loss 548.7722118063735   distance 0.026154419323233924\n",
      "iter 101   loss 548.7477891559031   distance 0.024422650470455665\n",
      "iter 102   loss 548.7249836082583   distance 0.022805547644793478\n",
      "iter 103   loss 548.7036880898207   distance 0.021295518437568717\n",
      "iter 104   loss 548.6838026166639   distance 0.01988547315681899\n",
      "iter 105   loss 548.6652338251206   distance 0.018568791543316365\n",
      "iter 106   loss 548.6478945334346   distance 0.017339291685971148\n",
      "iter 107   loss 548.6317033324365   distance 0.016191200998150634\n",
      "iter 108   loss 548.6165842033215   distance 0.01511912911496438\n",
      "iter 109   loss 548.6024661607366   distance 0.014118042584868817\n",
      "iter 110   loss 548.5892829194985   distance 0.013183241238152732\n",
      "iter 111   loss 548.5769725833811   distance 0.012310336117366205\n",
      "iter 112   loss 548.5654773545077   distance 0.011495228873400265\n",
      "iter 113   loss 548.5547432619867   distance 0.010734092521033745\n",
      "iter 114   loss 548.5447199085135   distance 0.01002335347322969\n",
      "iter 115   loss 548.5353602337531   distance 0.00935967476038968\n",
      "iter 116   loss 548.526620293387   distance 0.008739940366012888\n",
      "iter 117   loss 548.5184590527932   distance 0.008161240593835828\n",
      "iter 118   loss 548.5108381943841   distance 0.007620858409154607\n",
      "iter 119   loss 548.5037219377044   distance 0.007116256679637445\n",
      "iter 120   loss 548.4970768714389   distance 0.0066450662654915504\n",
      "iter 121   loss 548.4908717965432   distance 0.006205074895774487\n",
      "iter 122   loss 548.4850775797628   distance 0.005794216780373063\n",
      "iter 123   loss 548.4796670168506   distance 0.00541056291217501\n",
      "iter 124   loss 548.4746147048411   distance 0.00505231200952494\n",
      "iter 125   loss 548.4698969227808   distance 0.004717782060311038\n",
      "iter 126   loss 548.465491520358   distance 0.004405402422776206\n",
      "iter 127   loss 548.4613778139048   distance 0.004113706453154009\n",
      "iter 128   loss 548.4575364892856   distance 0.003841324619202169\n",
      "iter 129   loss 548.4539495112167   distance 0.0035869780689381514\n",
      "iter 130   loss 548.4506000385887   distance 0.003349472627974137\n",
      "iter 131   loss 548.4474723453969   distance 0.0031276931918000628\n",
      "iter 132   loss 548.4445517469062   distance 0.002920598490732118\n",
      "iter 133   loss 548.4418245307053   distance 0.0027272162009239764\n",
      "iter 134   loss 548.4392778923261   distance 0.0025466383791581393\n",
      "iter 135   loss 548.4368998751261   distance 0.002378017200044269\n",
      "iter 136   loss 548.4346793141506   distance 0.0022205609755019395\n",
      "iter 137   loss 548.4326057837123   distance 0.0020735304382242248\n",
      "iter 138   loss 548.4306695484437   distance 0.0019362352686584927\n",
      "iter 139   loss 548.4288615175861   distance 0.0018080308575463278\n",
      "iter 140   loss 548.4271732023103   distance 0.001688315275828245\n",
      "iter 141   loss 548.4255966758597   distance 0.0015765264506626409\n",
      "iter 142   loss 548.4241245363335   distance 0.001472139526185856\n",
      "iter 143   loss 548.4227498719358   distance 0.0013746643976446649\n",
      "iter 144   loss 548.4214662285225   distance 0.0012836434133305374\n",
      "iter 145   loss 548.4202675792988   distance 0.0011986492237383573\n",
      "iter 146   loss 548.4191482965242   distance 0.0011192827745389877\n",
      "iter 147   loss 548.4181031250891   distance 0.0010451714350665497\n",
      "iter 148   loss 548.4171271578414   distance 0.0009759672477684944\n",
      "iter 149   loss 548.4162158125475   distance 0.000911345293843624\n",
      "iter 150   loss 548.415364810379   distance 0.000851002168587911\n",
      "iter 151   loss 548.4145701558213   distance 0.0007946545576942299\n",
      "iter 152   loss 548.4138281179169   distance 0.0007420379043878711\n",
      "iter 153   loss 548.4131352127465   distance 0.000692905170353697\n",
      "iter 154   loss 548.4124881870727   distance 0.0006470256738566604\n",
      "iter 155   loss 548.4118840030654   distance 0.0006041840072157356\n",
      "iter 156   loss 548.4113198240391   distance 0.0005641790263553048\n",
      "iter 157   loss 548.4107930011342   distance 0.0005268229049306683\n",
      "iter 158   loss 548.4103010608808   distance 0.0004919402533687389\n",
      "iter 159   loss 548.4098416935857   distance 0.00045936729509321594\n",
      "iter 160   loss 548.4094127424877   distance 0.00042895109800156206\n",
      "iter 161   loss 548.4090121936321   distance 0.0004005488556231285\n",
      "iter 162   loss 548.4086381664139   distance 0.00037402721818580176\n",
      "iter 163   loss 548.4082889047498   distance 0.00034926166404147807\n",
      "iter 164   loss 548.4079627688322   distance 0.00032613591758945404\n",
      "iter 165   loss 548.4076582274306   distance 0.00030454140164692944\n",
      "iter 166   loss 548.4073738507017   distance 0.0002843767289277821\n",
      "iter 167   loss 548.407108303478   distance 0.0002655472236483547\n",
      "iter 168   loss 548.4068603389961   distance 0.0002479644819004534\n",
      "iter 169   loss 548.4066287930463   distance 0.00023154594987317978\n",
      "iter 170   loss 548.4064125785039   distance 0.00021621454231990356\n",
      "iter 171   loss 548.406210680227   distance 0.0002018982769413924\n",
      "iter 172   loss 548.4060221502892   distance 0.00018852993775908544\n",
      "iter 173   loss 548.4058461035296   distance 0.00017604675963411864\n",
      "iter 174   loss 548.4056817133965   distance 0.00016439013313629403\n",
      "iter 175   loss 548.4055282080666   distance 0.00015350532987667975\n",
      "iter 176   loss 548.4053848668218   distance 0.00014334124477954902\n",
      "iter 177   loss 548.4052510166656   distance 0.00013385015620315244\n",
      "iter 178   loss 548.4051260291619   distance 0.00012498750368195033\n",
      "iter 179   loss 548.4050093174859   distance 0.00011671167601434718\n",
      "iter 180   loss 548.4049003336679   distance 0.00010898381799506751\n",
      "iter 181   loss 548.404798566022   distance 0.00010176764590141829\n",
      "iter 182   loss 548.4047035367414   distance 9.502928060101112e-05\n",
      "iter 183   loss 548.4046147996576   distance 8.873708384271595e-05\n",
      "iter 184   loss 548.4045319381436   distance 8.286151398806396e-05\n",
      "iter 185   loss 548.404454563159   distance 7.73749845848215e-05\n",
      "iter 186   loss 548.4043823114226   distance 7.225173635561077e-05\n",
      "iter 187   loss 548.404314843708   distance 6.746771464349877e-05\n",
      "iter 188   loss 548.4042518432494   distance 6.30004585673305e-05\n",
      "iter 189   loss 548.4041930142553   distance 5.8828994156101544e-05\n",
      "iter 190   loss 548.4041380805195   distance 5.493373578246974e-05\n",
      "iter 191   loss 548.4040867841243   distance 5.1296395213284995e-05\n",
      "iter 192   loss 548.4040388842296   distance 4.789989463915845e-05\n",
      "iter 193   loss 548.4039941559423   distance 4.472828732104972e-05\n",
      "iter 194   loss 548.4039523892596   distance 4.1766682670640876e-05\n",
      "iter 195   loss 548.4039133880847   distance 3.9001174968689156e-05\n",
      "iter 196   loss 548.4038769693036   distance 3.6418781064639916e-05\n",
      "iter 197   loss 548.4038429619281   distance 3.400737546144228e-05\n",
      "iter 198   loss 548.4038112062913   distance 3.1755636882735416e-05\n",
      "iter 199   loss 548.4037815532978   distance 2.9652993475792755e-05\n",
      "iter 200   loss 548.4037538637252   distance 2.7689572561939713e-05\n",
      "iter 201   loss 548.4037280075692   distance 2.5856156071313308e-05\n",
      "iter 202   loss 548.4037038634328   distance 2.4144136318682285e-05\n",
      "iter 203   loss 548.4036813179579   distance 2.25454749624987e-05\n",
      "iter 204   loss 548.4036602652922   distance 2.105266571561515e-05\n",
      "iter 205   loss 548.4036406065914   distance 1.965870080766763e-05\n",
      "iter 206   loss 548.4036222495571   distance 1.8357034264226968e-05\n",
      "iter 207   loss 548.4036051080012   distance 1.714155587251298e-05\n",
      "iter 208   loss 548.4035891014436   distance 1.600655764377734e-05\n",
      "iter 209   loss 548.4035741547318   distance 1.4946711758057063e-05\n",
      "iter 210   loss 548.4035601976906   distance 1.3957041232970369e-05\n",
      "iter 211   loss 548.4035471647901   distance 1.303290048326744e-05\n",
      "iter 212   loss 548.40353499484   distance 1.2169950082352443e-05\n",
      "iter 213   loss 548.4035236307019   distance 1.1364138117642142e-05\n",
      "iter 214   loss 548.4035130190202   distance 1.061168165961135e-05\n",
      "iter 215   loss 548.4035031099723   distance 9.909047889777867e-06\n",
      "iter 216   loss 548.4034938570346   distance 9.25293772979785e-06\n",
      "iter 217   loss 548.4034852167639   distance 8.640270721116394e-06\n",
      "iter 218   loss 548.4034771485934   distance 8.068170473052305e-06\n",
      "iter 219   loss 548.4034696146427   distance 7.5339506793170585e-06\n",
      "iter 220   loss 548.4034625795395   distance 7.035103294583678e-06\n",
      "iter 221   loss 548.403456010253   distance 6.569286483681935e-06\n",
      "iter 222   loss 548.4034498759404   distance 6.134312570793554e-06\n",
      "iter 223   loss 548.4034441478004   distance 5.7281399676867295e-06\n",
      "iter 224   loss 548.4034387989391   distance 5.348861350285006e-06\n",
      "iter 225   loss 548.4034338042433   distance 4.994695814275474e-06\n",
      "iter 226   loss 548.4034291402626   distance 4.663980689656455e-06\n",
      "iter 227   loss 548.403424785099   distance 4.355163582658861e-06\n",
      "iter 228   loss 548.4034207183049   distance 4.066794076607039e-06\n",
      "iter 229   loss 548.4034169207865   distance 3.7975183886373998e-06\n",
      "iter 230   loss 548.4034133747141   distance 3.5460724348013173e-06\n",
      "iter 231   loss 548.4034100634385   distance 3.3112755772890523e-06\n",
      "iter 232   loss 548.4034069714133   distance 3.092025167461543e-06\n",
      "iter 233   loss 548.4034040841211   distance 2.8872922257505707e-06\n",
      "iter 234   loss 548.4034013880059   distance 2.696115188882686e-06\n",
      "iter 235   loss 548.4033988704093   distance 2.517596612960915e-06\n",
      "iter 236   loss 548.4033965195108   distance 2.3508985123044113e-06\n"
     ]
    },
    {
     "name": "stdout",
     "output_type": "stream",
     "text": [
      "iter 237   loss 548.403394324273   distance 2.1952378119749483e-06\n",
      "iter 238   loss 548.4033922743889   distance 2.0498840740401647e-06\n",
      "iter 239   loss 548.4033903602343   distance 1.9141546090395423e-06\n",
      "iter 240   loss 548.4033885728223   distance 1.7874119748739759e-06\n",
      "iter 241   loss 548.4033869037603   distance 1.6690620441295323e-06\n",
      "iter 242   loss 548.4033853452123   distance 1.5585479786750511e-06\n",
      "iter 243   loss 548.403383889861   distance 1.4553513665305218e-06\n",
      "iter 244   loss 548.4033825308733   distance 1.3589876743935747e-06\n",
      "iter 245   loss 548.4033812618683   distance 1.2690049970842665e-06\n",
      "iter 246   loss 548.4033800768884   distance 1.1849798511320841e-06\n",
      "iter 247   loss 548.4033789703698   distance 1.1065186527048354e-06\n",
      "iter 248   loss 548.4033779371175   distance 1.0332522606404382e-06\n",
      "iter 249   loss 548.4033769722802   distance 9.648373406889732e-07\n",
      "iter 250   loss 548.4033760713278   distance 9.009523864733637e-07\n",
      "iter 251   loss 548.4033752300304   distance 8.412973784288624e-07\n",
      "iter 252   loss 548.403374444438   distance 7.855924195609987e-07\n",
      "iter 253   loss 548.4033737108621   distance 7.33575916456175e-07\n",
      "iter 254   loss 548.4033730258589   distance 6.850032150396146e-07\n",
      "iter 255   loss 548.4033723862119   distance 6.396469416358741e-07\n",
      "iter 256   loss 548.4033717889179   distance 5.972940471110633e-07\n",
      "iter 257   loss 548.4033712311727   distance 5.577451247518184e-07\n",
      "iter 258   loss 548.4033707103578   distance 5.208149786994909e-07\n",
      "iter 259   loss 548.4033702240274   distance 4.863303502133931e-07\n",
      "iter 260   loss 548.4033697698989   distance 4.5412855342874536e-07\n",
      "iter 261   loss 548.4033693458393   distance 4.2405952171975514e-07\n",
      "iter 262   loss 548.4033689498583   distance 3.959810328524327e-07\n",
      "iter 263   loss 548.4033685800965   distance 3.6976177852920955e-07\n",
      "iter 264   loss 548.4033682348178   distance 3.4527874959167093e-07\n",
      "iter 265   loss 548.4033679124011   distance 3.224166675863671e-07\n",
      "iter 266   loss 548.4033676113327   distance 3.0106843951216433e-07\n",
      "iter 267   loss 548.403367330199   distance 2.811336798913544e-07\n",
      "iter 268   loss 548.4033670676802   distance 2.6251882445649244e-07\n",
      "iter 269   loss 548.4033668225434   distance 2.451367890898837e-07\n",
      "iter 270   loss 548.4033665936379   distance 2.2890549189469311e-07\n",
      "iter 271   loss 548.4033663798891   distance 2.1374876268964726e-07\n",
      "iter 272   loss 548.4033661802933   distance 1.9959577457484556e-07\n",
      "iter 273   loss 548.4033659939132   distance 1.8638013443705859e-07\n",
      "iter 274   loss 548.4033658198741   distance 1.74039087141864e-07\n",
      "iter 275   loss 548.4033656573587   distance 1.6251544820988784e-07\n",
      "iter 276   loss 548.403365505604   distance 1.5175464795902371e-07\n",
      "iter 277   loss 548.4033653638973   distance 1.4170677786751185e-07\n",
      "iter 278   loss 548.4033652315737   distance 1.3232352102932055e-07\n",
      "iter 279   loss 548.4033651080115   distance 1.235622448803042e-07\n",
      "iter 280   loss 548.4033649926307   distance 1.1538077160366811e-07\n",
      "iter 281   loss 548.4033648848897   distance 1.0774101610877551e-07\n",
      "iter 282   loss 548.4033647842828   distance 1.0060693966806866e-07\n",
      "iter 283   loss 548.4033646903372   distance 9.394557309860829e-08\n",
      "iter 284   loss 548.4033646026119   distance 8.772531145950779e-08\n",
      "iter 285   loss 548.4033645206954   distance 8.191648248612182e-08\n",
      "iter 286   loss 548.4033644442028   distance 7.649259714526124e-08\n",
      "iter 287   loss 548.4033643727751   distance 7.142773483792553e-08\n",
      "iter 288   loss 548.4033643060767   distance 6.66983623887063e-08\n",
      "iter 289   loss 548.4033642437948   distance 6.228185611689696e-08\n",
      "iter 290   loss 548.4033641856366   distance 5.8158207139058504e-08\n",
      "iter 291   loss 548.4033641313292   distance 5.4307406571751926e-08\n",
      "iter 292   loss 548.4033640806177   distance 5.071149189461721e-08\n",
      "iter 293   loss 548.4033640332642   distance 4.735352376883384e-08\n",
      "iter 294   loss 548.4033639890459   distance 4.421826815814711e-08\n",
      "iter 295   loss 548.4033639477556   distance 4.129037733946461e-08\n",
      "iter 296   loss 548.4033639091991   distance 3.855643626593519e-08\n",
      "iter 297   loss 548.4033638731958   distance 3.600337095122086e-08\n",
      "iter 298   loss 548.4033638395762   distance 3.3619585337874014e-08\n",
      "iter 299   loss 548.4033638081826   distance 3.139359705528477e-08\n",
      "iter 300   loss 548.4033637788679   distance 2.93147195407073e-08\n",
      "iter 301   loss 548.4033637514942   distance 2.737363047344843e-08\n",
      "iter 302   loss 548.4033637259326   distance 2.556157596700359e-08\n",
      "iter 303   loss 548.403363702064   distance 2.3868665266491007e-08\n",
      "iter 304   loss 548.4033636797756   distance 2.2288418222160544e-08\n",
      "iter 305   loss 548.4033636589629   distance 2.0812649381696247e-08\n",
      "iter 306   loss 548.4033636395284   distance 1.9434537534834817e-08\n",
      "iter 307   loss 548.403363621381   distance 1.814737515815068e-08\n",
      "iter 308   loss 548.4033636044346   distance 1.694638740445953e-08\n",
      "iter 309   loss 548.4033635886108   distance 1.5823843568796292e-08\n",
      "iter 310   loss 548.4033635738344   distance 1.4776333046029322e-08\n",
      "iter 311   loss 548.4033635600366   distance 1.3797830433759373e-08\n",
      "iter 312   loss 548.4033635471524   distance 1.2884243005828466e-08\n",
      "iter 313   loss 548.4033635351211   distance 1.2031250662403181e-08\n",
      "iter 314   loss 548.4033635238867   distance 1.1234419616812374e-08\n",
      "iter 315   loss 548.403363513396   distance 1.0490680324437562e-08\n",
      "iter 316   loss 548.4033635036   distance 9.796053745958488e-09\n",
      "iter 317   loss 548.4033634944525   distance 9.147470336756669e-09\n",
      "iter 318   loss 548.4033634859107   distance 8.541746865375899e-09\n",
      "iter 319   loss 548.4033634779346   distance 7.976154847710859e-09\n",
      "iter 320   loss 548.4033634704864   distance 7.448193173331674e-09\n",
      "iter 321   loss 548.4033634635318   distance 6.954564923944417e-09\n",
      "iter 322   loss 548.4033634570372   distance 6.494587978522759e-09\n",
      "iter 323   loss 548.4033634509731   distance 6.064169610908721e-09\n",
      "iter 324   loss 548.40336344531   distance 5.663082447426859e-09\n",
      "iter 325   loss 548.4033634400223   distance 5.287688509270083e-09\n",
      "iter 326   loss 548.4033634350845   distance 4.937760422762949e-09\n",
      "iter 327   loss 548.4033634304737   distance 4.610797077475581e-09\n",
      "iter 328   loss 548.4033634261682   distance 4.305547918193042e-09\n",
      "iter 329   loss 548.4033634221478   distance 4.020421329187229e-09\n",
      "iter 330   loss 548.4033634183936   distance 3.7541667552432045e-09\n",
      "iter 331   loss 548.403363414888   distance 3.505647327983752e-09\n",
      "iter 332   loss 548.4033634116145   distance 3.273498805356212e-09\n",
      "iter 333   loss 548.4033634085577   distance 3.056811692658812e-09\n",
      "iter 334   loss 548.4033634057034   distance 2.854221747838892e-09\n",
      "iter 335   loss 548.4033634030379   distance 2.6655015972210094e-09\n",
      "iter 336   loss 548.4033634005491   distance 2.488832251401618e-09\n",
      "iter 337   loss 548.4033633982251   distance 2.323986336705275e-09\n",
      "iter 338   loss 548.4033633960548   distance 2.17028173210565e-09\n",
      "iter 339   loss 548.4033633940284   distance 2.0264678823878057e-09\n",
      "iter 340   loss 548.4033633921358   distance 1.892544787551742e-09\n",
      "iter 341   loss 548.4033633903689   distance 1.7669208318693563e-09\n",
      "iter 342   loss 548.403363388719   distance 1.6499370758538134e-09\n",
      "iter 343   loss 548.403363387178   distance 1.5409113984787837e-09\n",
      "iter 344   loss 548.4033633857393   distance 1.4387069313670509e-09\n",
      "iter 345   loss 548.4033633843958   distance 1.3435510481940582e-09\n",
      "iter 346   loss 548.4033633831413   distance 1.2545342542580329e-09\n",
      "iter 347   loss 548.4033633819699   distance 1.17131548904581e-09\n",
      "iter 348   loss 548.4033633808759   distance 1.094008439395111e-09\n",
      "iter 349   loss 548.4033633798545   distance 1.02147623692872e-09\n",
      "iter 350   loss 548.4033633789006   distance 9.538325684843585e-10\n",
      "iter 351   loss 548.40336337801   distance 8.9062268671114e-10\n",
      "iter 352   loss 548.4033633771784   distance 8.316192179336213e-10\n",
      "iter 353   loss 548.4033633764017   distance 7.767084753140807e-10\n",
      "iter 354   loss 548.4033633756765   distance 7.252083378261887e-10\n",
      "iter 355   loss 548.4033633749992   distance 6.772324923076667e-10\n",
      "iter 356   loss 548.4033633743668   distance 6.3243987824535e-10\n",
      "iter 357   loss 548.4033633737763   distance 5.904894351260737e-10\n",
      "iter 358   loss 548.403363373225   distance 5.512674761121161e-10\n",
      "iter 359   loss 548.4033633727101   distance 5.14887688041199e-10\n",
      "iter 360   loss 548.4033633722294   distance 4.807816367247142e-10\n",
      "iter 361   loss 548.4033633717803   distance 4.490630090003833e-10\n",
      "iter 362   loss 548.4033633713613   distance 4.190496838418767e-10\n",
      "iter 363   loss 548.4033633709697   distance 3.915374691132456e-10\n",
      "iter 364   loss 548.4033633706041   distance 3.6561687011271715e-10\n",
      "iter 365   loss 548.4033633702629   distance 3.411742000025697e-10\n",
      "iter 366   loss 548.4033633699443   distance 3.1866420613368973e-10\n",
      "iter 367   loss 548.4033633696464   distance 2.97859514830634e-10\n",
      "iter 368   loss 548.4033633693685   distance 2.778506313916296e-10\n",
      "iter 369   loss 548.403363369109   distance 2.595470505184494e-10\n",
      "iter 370   loss 548.4033633688667   distance 2.4226665118476376e-10\n",
      "iter 371   loss 548.4033633686403   distance 2.2646418074145913e-10\n",
      "iter 372   loss 548.4033633684292   distance 2.1111645764904097e-10\n",
      "iter 373   loss 548.4033633682318   distance 1.9736035028472543e-10\n",
      "iter 374   loss 548.4033633680475   distance 1.8428636394673958e-10\n",
      "iter 375   loss 548.4033633678755   distance 1.7200818547280505e-10\n",
      "iter 376   loss 548.4033633677147   distance 1.6075318853836507e-10\n",
      "iter 377   loss 548.4033633675649   distance 1.4983925211708993e-10\n",
      "iter 378   loss 548.4033633674246   distance 1.4028955774847418e-10\n",
      "iter 379   loss 548.403363367294   distance 1.3062617654213682e-10\n",
      "iter 380   loss 548.4033633671717   distance 1.2232703738845885e-10\n",
      "iter 381   loss 548.4033633670576   distance 1.1402789823478088e-10\n",
      "iter 382   loss 548.4033633669511   distance 1.0652456694515422e-10\n",
      "iter 383   loss 548.4033633668516   distance 9.947598300641403e-11\n",
      "iter 384   loss 548.4033633667588   distance 9.28821464185603e-11\n",
      "iter 385   loss 548.403363366672   distance 8.674305718159303e-11\n",
      "iter 386   loss 548.4033633665911   distance 8.094502845779061e-11\n",
      "iter 387   loss 548.4033633665155   distance 7.560174708487466e-11\n",
      "iter 388   loss 548.403363366445   distance 7.048583938740194e-11\n",
      "iter 389   loss 548.4033633663789   distance 6.605205271625891e-11\n",
      "iter 390   loss 548.4033633663173   distance 6.161826604511589e-11\n",
      "iter 391   loss 548.4033633662599   distance 5.7411853049416095e-11\n",
      "iter 392   loss 548.4033633662061   distance 5.377387424232438e-11\n",
      "iter 393   loss 548.403363366156   distance 5.013589543523267e-11\n",
      "iter 394   loss 548.4033633661093   distance 4.672529030358419e-11\n",
      "iter 395   loss 548.4033633660654   distance 4.388311936054379e-11\n",
      "iter 396   loss 548.4033633660248   distance 4.058620106661692e-11\n",
      "iter 397   loss 548.4033633659865   distance 3.83124643121846e-11\n",
      "iter 398   loss 548.4033633659511   distance 3.5356606531422585e-11\n",
      "iter 399   loss 548.4033633659177   distance 3.342393029015511e-11\n",
      "iter 400   loss 548.4033633658867   distance 3.1036506698001176e-11\n",
      "iter 401   loss 548.4033633658578   distance 2.887645678129047e-11\n",
      "iter 402   loss 548.4033633658307   distance 2.7057467377744615e-11\n",
      "iter 403   loss 548.4033633658054   distance 2.5352164811920375e-11\n",
      "iter 404   loss 548.4033633657816   distance 2.376054908381775e-11\n",
      "iter 405   loss 548.4033633657598   distance 2.1827872842550278e-11\n",
      "iter 406   loss 548.4033633657393   distance 2.0463630789890885e-11\n",
      "iter 407   loss 548.4033633657198   distance 1.9554136088117957e-11\n",
      "iter 408   loss 548.4033633657021   distance 1.7621459846850485e-11\n",
      "iter 409   loss 548.4033633656851   distance 1.7053025658242404e-11\n",
      "iter 410   loss 548.4033633656696   distance 1.546140993013978e-11\n",
      "iter 411   loss 548.4033633656551   distance 1.4551915228366852e-11\n",
      "iter 412   loss 548.4033633656413   distance 1.375610736431554e-11\n",
      "iter 413   loss 548.4033633656287   distance 1.261923898709938e-11\n",
      "iter 414   loss 548.4033633656167   distance 1.2050804798491299e-11\n",
      "iter 415   loss 548.4033633656057   distance 1.0913936421275139e-11\n",
      "iter 416   loss 548.4033633655953   distance 1.0459189070388675e-11\n",
      "iter 417   loss 548.4033633655856   distance 9.663381206337363e-12\n",
      "iter 418   loss 548.4033633655765   distance 9.094947017729282e-12\n",
      "iter 419   loss 548.4033633655681   distance 8.412825991399586e-12\n",
      "iter 420   loss 548.4033633655602   distance 7.958078640513122e-12\n",
      "iter 421   loss 548.4033633655529   distance 7.275957614183426e-12\n",
      "iter 422   loss 548.4033633655459   distance 6.934897101018578e-12\n",
      "iter 423   loss 548.4033633655396   distance 6.366462912410498e-12\n",
      "iter 424   loss 548.4033633655336   distance 6.0254023992456496e-12\n",
      "iter 425   loss 548.4033633655279   distance 5.6843418860808015e-12\n",
      "iter 426   loss 548.4033633655226   distance 5.229594535194337e-12\n",
      "iter 427   loss 548.4033633655177   distance 4.888534022029489e-12\n",
      "iter 428   loss 548.4033633655134   distance 4.320099833421409e-12\n",
      "iter 429   loss 548.403363365509   distance 4.433786671143025e-12\n",
      "iter 430   loss 548.4033633655051   distance 3.865352482534945e-12\n",
      "iter 431   loss 548.4033633655013   distance 3.865352482534945e-12\n",
      "iter 432   loss 548.403363365498   distance 3.296918293926865e-12\n",
      "iter 433   loss 548.4033633654948   distance 3.183231456205249e-12\n",
      "iter 434   loss 548.4033633654916   distance 3.183231456205249e-12\n",
      "iter 435   loss 548.4033633654889   distance 2.7284841053187847e-12\n",
      "iter 436   loss 548.4033633654864   distance 2.5011104298755527e-12\n",
      "iter 437   loss 548.4033633654836   distance 2.7284841053187847e-12\n",
      "iter 438   loss 548.4033633654815   distance 2.1600499167107046e-12\n",
      "iter 439   loss 548.4033633654793   distance 2.1600499167107046e-12\n",
      "iter 440   loss 548.4033633654774   distance 1.9326762412674725e-12\n",
      "iter 441   loss 548.4033633654755   distance 1.9326762412674725e-12\n",
      "iter 442   loss 548.4033633654735   distance 1.9326762412674725e-12\n",
      "iter 443   loss 548.403363365472   distance 1.4779288903810084e-12\n",
      "iter 444   loss 548.4033633654705   distance 1.5916157281026244e-12\n",
      "iter 445   loss 548.4033633654692   distance 1.2505552149377763e-12\n",
      "iter 446   loss 548.4033633654678   distance 1.3642420526593924e-12\n",
      "iter 447   loss 548.4033633654665   distance 1.3642420526593924e-12\n",
      "iter 448   loss 548.4033633654655   distance 1.0231815394945443e-12\n",
      "iter 449   loss 548.4033633654643   distance 1.1368683772161603e-12\n",
      "iter 450   loss 548.4033633654632   distance 1.1368683772161603e-12\n",
      "iter 451   loss 548.4033633654624   distance 7.958078640513122e-13\n",
      "iter 452   loss 548.4033633654615   distance 9.094947017729282e-13\n",
      "iter 453   loss 548.4033633654606   distance 9.094947017729282e-13\n",
      "iter 454   loss 548.4033633654598   distance 7.958078640513122e-13\n",
      "iter 455   loss 548.4033633654591   distance 6.821210263296962e-13\n",
      "iter 456   loss 548.4033633654584   distance 6.821210263296962e-13\n",
      "iter 457   loss 548.403363365458   distance 4.547473508864641e-13\n",
      "iter 458   loss 548.4033633654575   distance 4.547473508864641e-13\n",
      "iter 459   loss 548.4033633654567   distance 7.958078640513122e-13\n",
      "iter 460   loss 548.4033633654561   distance 5.684341886080801e-13\n",
      "iter 461   loss 548.4033633654557   distance 4.547473508864641e-13\n",
      "iter 462   loss 548.4033633654553   distance 3.410605131648481e-13\n",
      "iter 463   loss 548.4033633654549   distance 4.547473508864641e-13\n",
      "iter 464   loss 548.4033633654544   distance 4.547473508864641e-13\n",
      "iter 465   loss 548.4033633654542   distance 2.2737367544323206e-13\n",
      "iter 466   loss 548.4033633654537   distance 4.547473508864641e-13\n",
      "iter 467   loss 548.4033633654534   distance 3.410605131648481e-13\n",
      "iter 468   loss 548.4033633654531   distance 3.410605131648481e-13\n",
      "iter 469   loss 548.4033633654528   distance 2.2737367544323206e-13\n",
      "iter 470   loss 548.4033633654526   distance 2.2737367544323206e-13\n",
      "iter 471   loss 548.4033633654523   distance 3.410605131648481e-13\n",
      "iter 472   loss 548.4033633654523   distance 0.0\n"
     ]
    }
   ],
   "source": [
    "theta_list, cost_list = gradient_descent(X_train,y_train,theta,learning_rate,lambdaa)\n"
   ]
  },
  {
   "cell_type": "code",
   "execution_count": 16,
   "metadata": {},
   "outputs": [
    {
     "data": {
      "image/png": "[encoded data removed]",
      "text/plain": [
       "<Figure size 432x288 with 1 Axes>"
      ]
     },
     "metadata": {
      "needs_background": "light"
     },
     "output_type": "display_data"
    }
   ],
   "source": [
    "plt.title('Cost Function', size = 30)\n",
    "plt.xlabel('num of iterator', size = 20)\n",
    "plt.ylabel('cost', size = 20)\n",
    "plt.plot(cost_list)\n",
    "plt.show()"
   ]
  },
  {
   "cell_type": "markdown",
   "metadata": {},
   "source": [
    "Ta suy ra theta"
   ]
  },
  {
   "cell_type": "code",
   "execution_count": 17,
   "metadata": {},
   "outputs": [
    {
     "name": "stdout",
     "output_type": "stream",
     "text": [
      "(4,)\n"
     ]
    }
   ],
   "source": [
    "new_theta = theta_list[-1]\n",
    "print(new_theta.shape)"
   ]
  },
  {
   "cell_type": "markdown",
   "metadata": {},
   "source": [
    "# Test"
   ]
  },
  {
   "cell_type": "code",
   "execution_count": 18,
   "metadata": {},
   "outputs": [],
   "source": [
    "df_test = pd.read_csv('data_test.csv').values\n"
   ]
  },
  {
   "cell_type": "code",
   "execution_count": 19,
   "metadata": {},
   "outputs": [
    {
     "data": {
      "text/plain": [
       "(2, 1)"
      ]
     },
     "execution_count": 19,
     "metadata": {},
     "output_type": "execute_result"
    }
   ],
   "source": [
    "x1_test = df_test[:,:1]\n",
    "x2_test = df_test[:,1:2]\n",
    "x3_test = df_test[:,2:3]\n",
    "\n",
    "#x1_test = normal(x1_test)\n",
    "#x2_test = normal(x2_test)\n",
    "#x3_test = normal(x3_test)\n",
    "y_test = df_test[:,3:4]\n",
    "y_test.shape"
   ]
  },
  {
   "cell_type": "code",
   "execution_count": 20,
   "metadata": {},
   "outputs": [
    {
     "data": {
      "text/plain": [
       "(2, 4)"
      ]
     },
     "execution_count": 20,
     "metadata": {},
     "output_type": "execute_result"
    }
   ],
   "source": [
    "\n",
    "X_test = np.c_[np.ones((np.size(y_test),1)),x1_test,x2_test,x3_test]\n",
    "X_test.shape"
   ]
  },
  {
   "cell_type": "code",
   "execution_count": 21,
   "metadata": {},
   "outputs": [],
   "source": [
    "Y_predict_from_test = predict(X_test,new_theta)\n",
    "y_test = np.reshape(y_test,(1,-1))"
   ]
  },
  {
   "cell_type": "code",
   "execution_count": 22,
   "metadata": {},
   "outputs": [
    {
     "name": "stdout",
     "output_type": "stream",
     "text": [
      "ta du doan diem tu model [154.99394141 187.25383271]\n",
      "diem thuc te [[149 192]]\n"
     ]
    }
   ],
   "source": [
    "print(\"ta du doan diem tu model\",Y_predict_from_test) \n",
    "print(\"diem thuc te\", y_test)"
   ]
  }
 ],
 "metadata": {
  "kernelspec": {
   "display_name": "Python 3",
   "language": "python",
   "name": "python3"
  },
  "language_info": {
   "codemirror_mode": {
    "name": "ipython",
    "version": 3
   },
   "file_extension": ".py",
   "mimetype": "text/x-python",
   "name": "python",
   "nbconvert_exporter": "python",
   "pygments_lexer": "ipython3",
   "version": "3.7.6"
  }
 },
 "nbformat": 4,
 "nbformat_minor": 4
}
