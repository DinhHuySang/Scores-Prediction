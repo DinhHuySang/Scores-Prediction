{
 "cells": [
  {
   "cell_type": "code",
   "execution_count": 1,
   "metadata": {},
   "outputs": [],
   "source": [
    "import numpy as np\n",
    "import plotly.express as px\n",
    "import pandas as pd\n",
    "import matplotlib.pyplot as plt"
   ]
  },
  {
   "cell_type": "code",
   "execution_count": 2,
   "metadata": {},
   "outputs": [
    {
     "data": {
      "text/plain": [
       "array([[ 73,  80,  75, 152],\n",
       "       [ 93,  88,  93, 185],\n",
       "       [ 89,  91,  90, 180],\n",
       "       [ 96,  98, 100, 196],\n",
       "       [ 73,  66,  70, 142],\n",
       "       [ 53,  46,  55, 101],\n",
       "       [ 69,  74,  77, 149],\n",
       "       [ 47,  56,  60, 115],\n",
       "       [ 87,  79,  90, 175],\n",
       "       [ 79,  70,  88, 164],\n",
       "       [ 69,  70,  73, 141],\n",
       "       [ 70,  65,  74, 141],\n",
       "       [ 93,  95,  91, 184],\n",
       "       [ 79,  80,  73, 152],\n",
       "       [ 70,  73,  78, 148],\n",
       "       [ 93,  89,  96, 192],\n",
       "       [ 78,  75,  68, 147],\n",
       "       [ 81,  90,  93, 183],\n",
       "       [ 88,  92,  86, 177],\n",
       "       [ 78,  83,  77, 159],\n",
       "       [ 82,  86,  90, 177],\n",
       "       [ 86,  82,  89, 175],\n",
       "       [ 78,  83,  85, 175]])"
      ]
     },
     "execution_count": 2,
     "metadata": {},
     "output_type": "execute_result"
    }
   ],
   "source": [
    "df = pd.read_csv('data_train.csv').values\n",
    "df"
   ]
  },
  {
   "cell_type": "code",
   "execution_count": 3,
   "metadata": {},
   "outputs": [
    {
     "name": "stdout",
     "output_type": "stream",
     "text": [
      "(23, 3) (23,)\n"
     ]
    }
   ],
   "source": [
    "x1 = df[:,0]\n",
    "x2 = df[:,1]\n",
    "x3 = df[:,2]\n",
    "X_train = df[:,:3]\n",
    "y_train = df[:,3]\n",
    "print(X_train.shape, y_train.shape)"
   ]
  },
  {
   "cell_type": "code",
   "execution_count": 4,
   "metadata": {},
   "outputs": [
    {
     "data": {
      "image/png": "[encoded data removed]",
      "text/plain": [
       "<Figure size 432x288 with 1 Axes>"
      ]
     },
     "metadata": {
      "needs_background": "light"
     },
     "output_type": "display_data"
    }
   ],
   "source": [
    "%matplotlib inline\n",
    "plt.xlabel('features')\n",
    "plt.ylabel('price')\n",
    "plt.scatter(x1,y_train,c='b')\n",
    "plt.scatter(x2,y_train,c='g')\n",
    "plt.scatter(x3,y_train,c='y')\n",
    "plt.show()"
   ]
  },
  {
   "cell_type": "code",
   "execution_count": 5,
   "metadata": {},
   "outputs": [],
   "source": [
    "X_train = np.c_[np.ones((len(X_train),1)),X_train]"
   ]
  },
  {
   "cell_type": "code",
   "execution_count": 6,
   "metadata": {},
   "outputs": [
    {
     "name": "stdout",
     "output_type": "stream",
     "text": [
      "(23, 4) (23,)\n"
     ]
    }
   ],
   "source": [
    "print(X_train.shape, y_train.shape)\n"
   ]
  },
  {
   "cell_type": "code",
   "execution_count": 7,
   "metadata": {},
   "outputs": [],
   "source": [
    "def predict(x,theta):\n",
    "    return np.dot(x, theta)"
   ]
  },
  {
   "cell_type": "code",
   "execution_count": 8,
   "metadata": {},
   "outputs": [],
   "source": [
    "def error(x,y,theta):\n",
    "    y_pre = predict(x,theta)\n",
    "    return 1/len(x)*(y-y_pre)**2"
   ]
  },
  {
   "cell_type": "code",
   "execution_count": 9,
   "metadata": {},
   "outputs": [],
   "source": [
    "def compute_cost(x,y,theta,lambdaa):\n",
    "    errors = error(x,y,theta)\n",
    "    return 1/(2*m)*np.dot(errors.T, errors) + lambdaa/2 *np.sum(theta.T@theta)"
   ]
  },
  {
   "cell_type": "code",
   "execution_count": 10,
   "metadata": {},
   "outputs": [],
   "source": [
    "def gradient_descent(x,y,theta,learning_rate,num_iter,m,lambdaa):  \n",
    "    cost_list = []\n",
    "    theta_list = []\n",
    "    for i in range(num_iter):\n",
    "        y_pre = predict(x,theta)\n",
    "        errors = error(x,y,theta)\n",
    "        cost = compute_cost(x,y,theta,lambdaa)\n",
    "        cost_list.append(cost)\n",
    "        theta-= learning_rate*np.dot(np.dot(x, theta) - y, x) / m + lambdaa*theta\n",
    "        theta_list.append(theta)\n",
    "    return theta_list, cost_list"
   ]
  },
  {
   "cell_type": "code",
   "execution_count": 11,
   "metadata": {},
   "outputs": [],
   "source": [
    "learning_rate = 0.0001\n",
    "m = len(y_train)  \n",
    "theta = np.random.rand(4)  #initializing theta with some random values\n",
    "num_iter = 200\n",
    "lambdaa = .00\n",
    "#print(error(x_train, y_train,theta))\n"
   ]
  },
  {
   "cell_type": "code",
   "execution_count": 12,
   "metadata": {},
   "outputs": [
    {
     "name": "stdout",
     "output_type": "stream",
     "text": [
      "[78.03499086 64.06189406 48.36610351 40.39890843 30.28197251 25.849602\n",
      " 19.18221088 16.82144415 12.3127248  11.15742286  8.02002391  7.55787825\n",
      "  5.30781526  5.23626939  3.57308514  3.71396924  2.44881497  2.69774484\n",
      "  1.71009414  2.00645902  1.21795954  1.52710775  0.88571272  1.18836771\n",
      "  0.65865009  0.94461557  0.50181331  0.76622502  0.39254713  0.63363885\n",
      "  0.31594863  0.53371986  0.26206242  0.45748411  0.22413545  0.39867757\n",
      "  0.19751915  0.35287125  0.17896997  0.31687775  0.16619737  0.28836919\n",
      "  0.15756724  0.26562289  0.15190422  0.24734906  0.14835769  0.23257218\n",
      "  0.14630954  0.22054778  0.14530968  0.21070325  0.14503038  0.20259517\n",
      "  0.14523354  0.19587795  0.14574691  0.19028076  0.14644679  0.1855902\n",
      "  0.14724523  0.1816373   0.14808066  0.17828758  0.14891085  0.17543352\n",
      "  0.1497077   0.17298877  0.15045341  0.17088359  0.15113757  0.16906148\n",
      "  0.15175503  0.16747638  0.15230433  0.1660906   0.15278651  0.16487315\n",
      "  0.15320429  0.16379844  0.15356139  0.16284524  0.15386217  0.16199585\n",
      "  0.15411121  0.16123547  0.15431318  0.16055166  0.15447262  0.15993394\n",
      "  0.15459391  0.15937343  0.15468112  0.15886259  0.15473808  0.158395\n",
      "  0.15476826  0.15796516  0.15477488  0.15756837  0.15476081  0.15720058\n",
      "  0.15472867  0.15685832  0.15468079  0.15653858  0.15461927  0.15623874\n",
      "  0.15454597  0.15595657  0.15446255  0.15569009  0.15437048  0.15543761\n",
      "  0.15427106  0.15519765  0.15416544  0.15496891  0.15405464  0.15475026\n",
      "  0.15393953  0.15454071  0.15382092  0.1543394   0.15369949  0.15414558\n",
      "  0.15357583  0.15395856  0.15345048  0.15377778  0.1533239   0.15360271\n",
      "  0.15319649  0.1534329   0.1530686   0.15326795  0.15294054  0.15310752\n",
      "  0.15281257  0.15295128  0.15268493  0.15279896  0.15255781  0.15265032\n",
      "  0.15243138  0.15250513  0.15230579  0.15236321  0.15218118  0.15222438\n",
      "  0.15205764  0.15208849  0.15193527  0.1519554   0.15181414  0.15182498\n",
      "  0.15169433  0.15169713  0.15157589  0.15157174  0.15145886  0.15144873\n",
      "  0.15134328  0.15132801  0.15122919  0.1512095   0.15111659  0.15109315\n",
      "  0.15100552  0.15097888  0.15089599  0.15086663  0.150788    0.15075637\n",
      "  0.15068156  0.15064803  0.15057668  0.15054157  0.15047335  0.15043696\n",
      "  0.15037157  0.15033414  0.15027133  0.15023309  0.15017263  0.15013377\n",
      "  0.15007547  0.15003615  0.14997982  0.14994019  0.14988569  0.14984587\n",
      "  0.14979305  0.14975316  0.1497019   0.14966203  0.14961223  0.14957246\n",
      "  0.14952402  0.14948442]\n"
     ]
    }
   ],
   "source": [
    "theta_list, cost_list = gradient_descent(X_train,y_train,theta,learning_rate,num_iter,m,lambdaa)\n",
    "print(np.array(cost_list))"
   ]
  },
  {
   "cell_type": "code",
   "execution_count": 13,
   "metadata": {},
   "outputs": [
    {
     "data": {
      "image/png": "[encoded data removed]",
      "text/plain": [
       "<Figure size 432x288 with 1 Axes>"
      ]
     },
     "metadata": {
      "needs_background": "light"
     },
     "output_type": "display_data"
    }
   ],
   "source": [
    "plt.title('Cost Function', size = 30)\n",
    "plt.xlabel('num of iterator', size = 20)\n",
    "plt.ylabel('cost', size = 20)\n",
    "plt.plot(cost_list)\n",
    "plt.show()"
   ]
  },
  {
   "cell_type": "markdown",
   "metadata": {},
   "source": [
    "Ta suy ra theta"
   ]
  },
  {
   "cell_type": "code",
   "execution_count": 14,
   "metadata": {},
   "outputs": [
    {
     "name": "stdout",
     "output_type": "stream",
     "text": [
      "(4,)\n"
     ]
    }
   ],
   "source": [
    "new_theta = theta_list[-1]\n",
    "print(new_theta.shape)"
   ]
  },
  {
   "cell_type": "markdown",
   "metadata": {},
   "source": [
    "# Test"
   ]
  },
  {
   "cell_type": "code",
   "execution_count": 15,
   "metadata": {},
   "outputs": [],
   "source": [
    "df_test = pd.read_csv('data_test.csv').values"
   ]
  },
  {
   "cell_type": "code",
   "execution_count": 16,
   "metadata": {},
   "outputs": [],
   "source": [
    "X_test = df_test[:,:3]\n",
    "y_test = df_test[:,3]\n",
    "X_test = np.c_[np.ones((len(X_test),1)),X_test]"
   ]
  },
  {
   "cell_type": "code",
   "execution_count": 17,
   "metadata": {},
   "outputs": [],
   "source": [
    "Y_predict_from_test = predict(X_test,new_theta)"
   ]
  },
  {
   "cell_type": "code",
   "execution_count": 18,
   "metadata": {},
   "outputs": [
    {
     "name": "stdout",
     "output_type": "stream",
     "text": [
      "ta du doan diem tu model [153.92552971 190.42477604]\n",
      "diem thuc te [149 192]\n"
     ]
    }
   ],
   "source": [
    "print(\"ta du doan diem tu model\",Y_predict_from_test) \n",
    "print(\"diem thuc te\", y_test)"
   ]
  }
 ],
 "metadata": {
  "kernelspec": {
   "display_name": "Python 3",
   "language": "python",
   "name": "python3"
  },
  "language_info": {
   "codemirror_mode": {
    "name": "ipython",
    "version": 3
   },
   "file_extension": ".py",
   "mimetype": "text/x-python",
   "name": "python",
   "nbconvert_exporter": "python",
   "pygments_lexer": "ipython3",
   "version": "3.6.9"
  }
 },
 "nbformat": 4,
 "nbformat_minor": 4
}
